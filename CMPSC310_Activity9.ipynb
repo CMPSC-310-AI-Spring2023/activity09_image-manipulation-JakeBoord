{
  "nbformat": 4,
  "nbformat_minor": 0,
  "metadata": {
    "colab": {
      "provenance": [],
      "include_colab_link": true
    },
    "kernelspec": {
      "name": "python3",
      "display_name": "Python 3"
    },
    "language_info": {
      "name": "python"
    }
  },
  "cells": [
    {
      "cell_type": "markdown",
      "metadata": {
        "id": "view-in-github",
        "colab_type": "text"
      },
      "source": [
        "<a href=\"https://colab.research.google.com/github/CMPSC-310-AI-Spring2023/activity09_image-manipulation-JakeBoord/blob/main/CMPSC310_Activity9.ipynb\" target=\"_parent\"><img src=\"https://colab.research.google.com/assets/colab-badge.svg\" alt=\"Open In Colab\"/></a>"
      ]
    },
    {
      "cell_type": "markdown",
      "source": [
        "# **Activity 9: Image Manipulation **\n"
      ],
      "metadata": {
        "id": "vcrrIOhGjS0Z"
      }
    },
    {
      "cell_type": "code",
      "source": [
        "import numpy as np\n",
        "import cv2\n",
        "\n",
        "rect = np.zeros((300,300), dtype=\"uint8\")\n",
        "cv2.rectangle(rect, (25,25), (275,275), 255, -1)\n",
        "cv2.imwrite(\"bitwise/Rectangle.png\", rect)\n",
        "\n",
        "circ = np.zeros((300,300), dtype= \"uint8\")\n",
        "cv2.circle(circ, (150,150), 150, 255, -1)\n",
        "cv2.imwrite(\"bitwise/Circle.png\", circ)\n",
        "\n",
        "bitwiseAnd = cv2.bitwise_and(rect,circ)\n",
        "cv2.imwrite(\"bitwise/AND.png\", bitwiseAnd)"
      ],
      "metadata": {
        "colab": {
          "base_uri": "https://localhost:8080/"
        },
        "id": "uChdi4l3Qq01",
        "outputId": "78f7a243-fc10-4442-fff4-6132221d8334"
      },
      "execution_count": 4,
      "outputs": [
        {
          "output_type": "execute_result",
          "data": {
            "text/plain": [
              "True"
            ]
          },
          "metadata": {},
          "execution_count": 4
        }
      ]
    },
    {
      "cell_type": "code",
      "source": [
        "bitwiseOr = cv2.bitwise_or(rect,circ)\n",
        "cv2.imwrite(\"bitwise/OR.png\", bitwiseOr)\n"
      ],
      "metadata": {
        "colab": {
          "base_uri": "https://localhost:8080/"
        },
        "id": "ogOHuAYuRJsO",
        "outputId": "a2101b3e-82e3-4306-a87f-6385be54b21e"
      },
      "execution_count": 5,
      "outputs": [
        {
          "output_type": "execute_result",
          "data": {
            "text/plain": [
              "True"
            ]
          },
          "metadata": {},
          "execution_count": 5
        }
      ]
    },
    {
      "cell_type": "code",
      "source": [
        "bitwiseXor = cv2.bitwise_xor(rect,circ)\n",
        "cv2.imwrite(\"bitwise/XOR.png\", bitwiseXor)\n"
      ],
      "metadata": {
        "colab": {
          "base_uri": "https://localhost:8080/"
        },
        "id": "X8pHxulFRoYq",
        "outputId": "8ba9bfff-8dfa-4081-a949-40811b9f3f27"
      },
      "execution_count": 6,
      "outputs": [
        {
          "output_type": "execute_result",
          "data": {
            "text/plain": [
              "True"
            ]
          },
          "metadata": {},
          "execution_count": 6
        }
      ]
    },
    {
      "cell_type": "code",
      "source": [
        "bitwiseNot = cv2.bitwise_not(rect,circ)\n",
        "cv2.imwrite(\"bitwise/NOT.png\", bitwiseNot)"
      ],
      "metadata": {
        "colab": {
          "base_uri": "https://localhost:8080/"
        },
        "id": "K6JxAxLRR0fa",
        "outputId": "2ce3ad38-d982-4762-dfd5-f370d6036e8f"
      },
      "execution_count": 7,
      "outputs": [
        {
          "output_type": "execute_result",
          "data": {
            "text/plain": [
              "True"
            ]
          },
          "metadata": {},
          "execution_count": 7
        }
      ]
    },
    {
      "cell_type": "code",
      "source": [
        "image = cv2.imread(\"images/awards.png\")\n",
        "print(image.shape)"
      ],
      "metadata": {
        "id": "8DwF3hohSQQF",
        "outputId": "9c9dee9d-2615-4a14-e09e-0c77fe905f3b",
        "colab": {
          "base_uri": "https://localhost:8080/"
        }
      },
      "execution_count": 9,
      "outputs": [
        {
          "output_type": "stream",
          "name": "stdout",
          "text": [
            "(3024, 4032, 3)\n"
          ]
        }
      ]
    },
    {
      "cell_type": "code",
      "source": [
        "mask = np.zeros(image.shape[:2], dtype= \"uint8\")\n"
      ],
      "metadata": {
        "id": "t0zt-uimTMW2"
      },
      "execution_count": 10,
      "outputs": []
    }
  ]
}