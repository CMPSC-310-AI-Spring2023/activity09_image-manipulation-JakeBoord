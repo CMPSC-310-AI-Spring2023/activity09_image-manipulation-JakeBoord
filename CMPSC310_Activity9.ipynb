{
  "nbformat": 4,
  "nbformat_minor": 0,
  "metadata": {
    "colab": {
      "provenance": [],
      "include_colab_link": true
    },
    "kernelspec": {
      "name": "python3",
      "display_name": "Python 3"
    },
    "language_info": {
      "name": "python"
    }
  },
  "cells": [
    {
      "cell_type": "markdown",
      "metadata": {
        "id": "view-in-github",
        "colab_type": "text"
      },
      "source": [
        "<a href=\"https://colab.research.google.com/github/CMPSC-310-AI-Spring2023/activity09_image-manipulation-JakeBoord/blob/main/CMPSC310_Activity9.ipynb\" target=\"_parent\"><img src=\"https://colab.research.google.com/assets/colab-badge.svg\" alt=\"Open In Colab\"/></a>"
      ]
    },
    {
      "cell_type": "markdown",
      "source": [
        "# **Activity 9: Image Manipulation **\n"
      ],
      "metadata": {
        "id": "vcrrIOhGjS0Z"
      }
    },
    {
      "cell_type": "code",
      "source": [
        "import numpy as np\n",
        "import cv2\n",
        "\n",
        "rect = np.zeros((300,300), dtype=\"uint8\")\n",
        "cv2.rectangle(rect, (25,25), (275,275), 255, -1)\n",
        "cv2.imwrite(\"bitwise/Rectangle.png\", rect)\n",
        "\n",
        "circ = np.zeros((300,300), dtype= \"uint8\")\n",
        "cv2.circle(circ, (150,150), 150, 255, -1)\n",
        "cv2.imwrite(\"bitwise/Circle.png\", circ)\n",
        "\n",
        "bitwiseAnd = cv2.bitwise_and(rect,circ)\n",
        "cv2.imwrite(\"bitwise/AND.png\", bitwiseAnd)"
      ],
      "metadata": {
        "colab": {
          "base_uri": "https://localhost:8080/"
        },
        "id": "uChdi4l3Qq01",
        "outputId": "78f7a243-fc10-4442-fff4-6132221d8334"
      },
      "execution_count": null,
      "outputs": [
        {
          "output_type": "execute_result",
          "data": {
            "text/plain": [
              "True"
            ]
          },
          "metadata": {},
          "execution_count": 4
        }
      ]
    },
    {
      "cell_type": "code",
      "source": [
        "bitwiseOr = cv2.bitwise_or(rect,circ)\n",
        "cv2.imwrite(\"bitwise/OR.png\", bitwiseOr)\n"
      ],
      "metadata": {
        "colab": {
          "base_uri": "https://localhost:8080/"
        },
        "id": "ogOHuAYuRJsO",
        "outputId": "a2101b3e-82e3-4306-a87f-6385be54b21e"
      },
      "execution_count": null,
      "outputs": [
        {
          "output_type": "execute_result",
          "data": {
            "text/plain": [
              "True"
            ]
          },
          "metadata": {},
          "execution_count": 5
        }
      ]
    },
    {
      "cell_type": "code",
      "source": [
        "bitwiseXor = cv2.bitwise_xor(rect,circ)\n",
        "cv2.imwrite(\"bitwise/XOR.png\", bitwiseXor)\n"
      ],
      "metadata": {
        "colab": {
          "base_uri": "https://localhost:8080/"
        },
        "id": "X8pHxulFRoYq",
        "outputId": "8ba9bfff-8dfa-4081-a949-40811b9f3f27"
      },
      "execution_count": null,
      "outputs": [
        {
          "output_type": "execute_result",
          "data": {
            "text/plain": [
              "True"
            ]
          },
          "metadata": {},
          "execution_count": 6
        }
      ]
    },
    {
      "cell_type": "code",
      "source": [
        "bitwiseNot = cv2.bitwise_not(rect,circ)\n",
        "cv2.imwrite(\"bitwise/NOT.png\", bitwiseNot)"
      ],
      "metadata": {
        "colab": {
          "base_uri": "https://localhost:8080/"
        },
        "id": "K6JxAxLRR0fa",
        "outputId": "2ce3ad38-d982-4762-dfd5-f370d6036e8f"
      },
      "execution_count": null,
      "outputs": [
        {
          "output_type": "execute_result",
          "data": {
            "text/plain": [
              "True"
            ]
          },
          "metadata": {},
          "execution_count": 7
        }
      ]
    },
    {
      "cell_type": "markdown",
      "source": [
        "Mount the drive so that it is easier to work with. Start at /content/drive for the path"
      ],
      "metadata": {
        "id": "Jb-4zl_OeXeQ"
      }
    },
    {
      "cell_type": "code",
      "source": [
        "from google.colab import drive\n",
        "drive.mount('/content/drive')"
      ],
      "metadata": {
        "id": "QXOQkFH7c2Ev",
        "outputId": "fb0a8089-59da-48d0-bce9-2f3670ccef09",
        "colab": {
          "base_uri": "https://localhost:8080/"
        }
      },
      "execution_count": 4,
      "outputs": [
        {
          "output_type": "stream",
          "name": "stdout",
          "text": [
            "Mounted at /content/drive\n"
          ]
        }
      ]
    },
    {
      "cell_type": "markdown",
      "source": [
        "Three values cloumns, rows, values\n",
        "\n",
        "Then print out the image shape."
      ],
      "metadata": {
        "id": "dwHg9be5eFbQ"
      }
    },
    {
      "cell_type": "code",
      "source": [
        "import numpy as np\n",
        "import cv2\n",
        "image = cv2.imread(\"/content/drive/MyDrive/images/flint1.jpg\")\n",
        "print(image.shape)"
      ],
      "metadata": {
        "id": "8DwF3hohSQQF",
        "outputId": "07e73f38-387e-4983-eec2-952e89ecff9a",
        "colab": {
          "base_uri": "https://localhost:8080/"
        }
      },
      "execution_count": 13,
      "outputs": [
        {
          "output_type": "stream",
          "name": "stdout",
          "text": [
            "(467, 350, 3)\n"
          ]
        }
      ]
    },
    {
      "cell_type": "code",
      "source": [
        "mask = np.zeros(image.shape[:2], dtype= \"uint8\")\n",
        "(cX,cY) = (image.shape[1] // 2, image.shape[0] // 2)\n",
        "cv2.rectangle(mask,(cX - 75, cY - 75), (cX + 75, cY + 75), 255, -1)\n",
        "cv2.imwrite(\"mask1.png\", mask)"
      ],
      "metadata": {
        "id": "t0zt-uimTMW2",
        "outputId": "95b65b7a-059c-423f-e4c7-721179086026",
        "colab": {
          "base_uri": "https://localhost:8080/"
        }
      },
      "execution_count": 14,
      "outputs": [
        {
          "output_type": "execute_result",
          "data": {
            "text/plain": [
              "True"
            ]
          },
          "metadata": {},
          "execution_count": 14
        }
      ]
    },
    {
      "cell_type": "code",
      "source": [
        "masked = cv2.bitwise_and(image, image, mask=mask)\n",
        "cv2.imwrite(\"masked1.png\", masked)"
      ],
      "metadata": {
        "id": "MNeVV0kqf6D3",
        "outputId": "15ec4063-1cc7-4df0-f4a4-a02bfb5a0c4b",
        "colab": {
          "base_uri": "https://localhost:8080/"
        }
      },
      "execution_count": 15,
      "outputs": [
        {
          "output_type": "execute_result",
          "data": {
            "text/plain": [
              "True"
            ]
          },
          "metadata": {},
          "execution_count": 15
        }
      ]
    },
    {
      "cell_type": "markdown",
      "source": [
        "Circle ( center point, radius)"
      ],
      "metadata": {
        "id": "huYZnfjAhKt8"
      }
    },
    {
      "cell_type": "code",
      "source": [
        "mask = np.zeros(image.shape[:2], dtype= \"uint8\")\n",
        "(cX,cY) = (image.shape[1] // 2, image.shape[0] // 2)\n",
        "cv2.circle(mask, (cX,cY) , 75, 255, -1)\n",
        "cv2.imwrite(\"mask2.png\", mask)\n",
        "masked2 = cv2.bitwise_and(image, image, mask=mask)\n",
        "cv2.imwrite(\"masked2.png\", masked2)"
      ],
      "metadata": {
        "id": "_Za5gtUSgfTH",
        "outputId": "bc02b2f8-c7b5-49d8-c8e8-127cb44bd473",
        "colab": {
          "base_uri": "https://localhost:8080/"
        }
      },
      "execution_count": 17,
      "outputs": [
        {
          "output_type": "execute_result",
          "data": {
            "text/plain": [
              "True"
            ]
          },
          "metadata": {},
          "execution_count": 17
        }
      ]
    },
    {
      "cell_type": "code",
      "source": [
        "gray = cv2.cvtColor(masked, cv2.COLOR_BGR2GRAY)\n",
        "cv2.imwrite(\"gray.png\", gray)"
      ],
      "metadata": {
        "id": "Y9huMLSJh7E7",
        "outputId": "13f1fc49-59e9-4764-9bdd-15a1b1c9f067",
        "colab": {
          "base_uri": "https://localhost:8080/"
        }
      },
      "execution_count": 20,
      "outputs": [
        {
          "output_type": "execute_result",
          "data": {
            "text/plain": [
              "True"
            ]
          },
          "metadata": {},
          "execution_count": 20
        }
      ]
    },
    {
      "cell_type": "code",
      "source": [
        "import numpy as np\n",
        "import cv2\n",
        "image = cv2.imread(\"/content/drive/MyDrive/images/awards.png\")\n",
        "print(image.shape)\n",
        "\n",
        "mask = np.zeros(image.shape[:2], dtype = \"uint8\")\n",
        "(cX, cY) = (1975, 1000)\n",
        "cv2.rectangle(mask, (cX - 1350, cY - 300), (cX + 1350, cY + 300), 255, -1)\n",
        "cv2.imwrite(\"mask3.png\", mask)\n",
        "masked3 = cv2.bitwise_and(image, image, mask=mask)\n",
        "cv2.imwrite(\"masked3.png\", masked3)"
      ],
      "metadata": {
        "id": "h3DeeneVifFV",
        "outputId": "fda491a6-ac32-4f65-9925-f062ffb42f73",
        "colab": {
          "base_uri": "https://localhost:8080/"
        }
      },
      "execution_count": 35,
      "outputs": [
        {
          "output_type": "stream",
          "name": "stdout",
          "text": [
            "(3024, 4032, 3)\n"
          ]
        },
        {
          "output_type": "execute_result",
          "data": {
            "text/plain": [
              "True"
            ]
          },
          "metadata": {},
          "execution_count": 35
        }
      ]
    }
  ]
}